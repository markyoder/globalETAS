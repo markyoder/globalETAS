{
 "cells": [
  {
   "cell_type": "code",
   "execution_count": 2,
   "metadata": {},
   "outputs": [
    {
     "name": "stdout",
     "output_type": "stream",
     "text": [
      "The autoreload extension is already loaded. To reload it, use:\n",
      "  %reload_ext autoreload\n"
     ]
    }
   ],
   "source": [
    "%load_ext autoreload\n",
    "%autoreload 2\n",
    "%matplotlib inline"
   ]
  },
  {
   "cell_type": "code",
   "execution_count": 3,
   "metadata": {},
   "outputs": [
    {
     "name": "stdout",
     "output_type": "stream",
     "text": [
      "failed while loading urllib and/or urllib. maybe python 3.x?\n"
     ]
    }
   ],
   "source": [
    "import datetime as dtm\n",
    "import matplotlib.dates as mpd\n",
    "import pytz\n",
    "#import calendar\n",
    "#import operator\n",
    "import sys\n",
    "import yodiipy.ANSStools as atp\n",
    "#\n",
    "# TODO: it is probably time to say goodnight to Python 2.x support...\n",
    "import urllib\n",
    "# try:\n",
    "# \t# should work with python 3.x\n",
    "# \timport urllib.request, urllib.parse, urllib.error\n",
    "# except:\n",
    "# \tprint(\"failed while loading: urllib.request, urllib.parse, urllib.error.\\n probably Python 2.x?\")\n",
    "# \t#urllib.request.urlopen = urllib.urlopen\n",
    "\n",
    "# try:\n",
    "# \timport ullib2\n",
    "# except:\n",
    "# \tprint(\"failed while loading urllib and/or urllib. maybe python 3.x?\")\n",
    "\t\n",
    "#import urllib.request, urllib.error, urllib.parse\n",
    "#import requests\n",
    "import numpy\n",
    "import math\n",
    "\n",
    "import contextlib"
   ]
  },
  {
   "cell_type": "code",
   "execution_count": 20,
   "metadata": {},
   "outputs": [
    {
     "name": "stdout",
     "output_type": "stream",
     "text": [
      "1490: False\n",
      "1491: False\n",
      "1492: False\n",
      "1493: True\n",
      "1494: False\n",
      "1495: False\n",
      "1496: False\n",
      "1497: False\n",
      "1498: False\n",
      "1499: True\n"
     ]
    }
   ],
   "source": [
    "def isprime(x):\n",
    "    x = float(x)\n",
    "    for k in range(2, numpy.sqrt(x).astype(int)+2):\n",
    "        #print('** {}'.format(k))\n",
    "        #print('** ', x, k, x/k, (x/k)%1, (x/k)%1==0.)\n",
    "        #\n",
    "        if x in (0., 1., 2.):\n",
    "            return True\n",
    "        #\n",
    "        if (x/k)%1.==0.:\n",
    "            # not prime\n",
    "            return False\n",
    "    return True\n",
    "    #\n",
    "#\n",
    "for j in range(1490, 1500):\n",
    "    print('{}: {}'.format(j, isprime(j)))\n",
    "\n"
   ]
  },
  {
   "cell_type": "code",
   "execution_count": 13,
   "metadata": {},
   "outputs": [
    {
     "name": "stdout",
     "output_type": "stream",
     "text": [
      "**  0.0\n"
     ]
    }
   ],
   "source": [
    "print('** ', (2./2.)%1.)"
   ]
  },
  {
   "cell_type": "code",
   "execution_count": null,
   "metadata": {},
   "outputs": [],
   "source": []
  }
 ],
 "metadata": {
  "kernelspec": {
   "display_name": "Python 3",
   "language": "python",
   "name": "python3"
  },
  "language_info": {
   "codemirror_mode": {
    "name": "ipython",
    "version": 3
   },
   "file_extension": ".py",
   "mimetype": "text/x-python",
   "name": "python",
   "nbconvert_exporter": "python",
   "pygments_lexer": "ipython3",
   "version": "3.7.3"
  }
 },
 "nbformat": 4,
 "nbformat_minor": 2
}
