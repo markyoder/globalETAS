{
 "cells": [
  {
   "cell_type": "markdown",
   "metadata": {},
   "source": [
    "### Cumulative nETAS Workbook\n",
    "Following the example by John Wilson (2016-17 or so), we add an option to compute, rather than the instantaneous expected nETAS rate, the cumulative number of events (aftershocks) between $t_1 < t < t_2$. In practice, we add a second time parameter; if the second parameter is provided, we compute the definite integral of the Omori functiono, rather than its instantaneous value.\n",
    "\n",
    "One trick here is to correctly generalize the behaviors for $t_1$, $t_{cat}$, {t_2} -- the starting time, ending time of the catalog, and the final forecast time. We want, for example, to:\n",
    "- Forecast the expected number of events, over some finite period (say one week, one month) after today\n",
    "- Compute the cumulative nETAS count between $t_1 < t < t_2$, for which we have a catalog complete to $t = t_2$\n",
    "   - NOTE: This is a sort of funny number. We *know* the number of earthquakes, exactly for this time-space period. We can, however, use this a few different ways:\n",
    "       - A fast geo-spatial normalization (aka, estimate the partial number of events in the finite space wtihout actually computing the spatial distributions -- we assume that most of the events occur nearby).\n",
    "       - Generally, for normalization. The above can be used/interpreted as a normalization constant. We expect the preliminary estimate (with no catalog inside $t_1 < t < t_2$). We can use this computation to estimate the bias.\n",
    "    - Compute the evolving distribution: The expected number of events between $t_1 < t < t_2$ for a catalog complete to some time $t_1 < t' t_2$, perhaps to compare it in real-time to the $t<t_1$ estimate or retrospectively to the $t<t_2$ distribution.\n",
    "\n",
    "The last scenario is of particular interest, as we are considering it for a prediction/forecasting metric, sort of an advanced version of the RI/PI methods developed by Rundle, Holliday, Tiampo, et al.\n",
    "\n"
   ]
  },
  {
   "cell_type": "code",
   "execution_count": 2,
   "metadata": {
    "collapsed": false
   },
   "outputs": [
    {
     "name": "stdout",
     "output_type": "stream",
     "text": [
      "The autoreload extension is already loaded. To reload it, use:\n",
      "  %reload_ext autoreload\n"
     ]
    }
   ],
   "source": [
    "#\n",
    "%load_ext autoreload\n",
    "%autoreload 2\n",
    "%matplotlib inline"
   ]
  },
  {
   "cell_type": "code",
   "execution_count": null,
   "metadata": {
    "collapsed": true
   },
   "outputs": [],
   "source": []
  }
 ],
 "metadata": {
  "kernelspec": {
   "display_name": "Python 3",
   "language": "python",
   "name": "python3"
  },
  "language_info": {
   "codemirror_mode": {
    "name": "ipython",
    "version": 3
   },
   "file_extension": ".py",
   "mimetype": "text/x-python",
   "name": "python",
   "nbconvert_exporter": "python",
   "pygments_lexer": "ipython3",
   "version": "3.6.8"
  }
 },
 "nbformat": 4,
 "nbformat_minor": 2
}
