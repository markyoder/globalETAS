{
 "cells": [
  {
   "cell_type": "code",
   "execution_count": 1,
   "metadata": {
    "collapsed": true
   },
   "outputs": [],
   "source": [
    "#\n",
    "%load_ext autoreload\n",
    "%autoreload 2\n",
    "%matplotlib inline\n"
   ]
  },
  {
   "cell_type": "code",
   "execution_count": 3,
   "metadata": {},
   "outputs": [],
   "source": [
    "import datetime as dtm\n",
    "import matplotlib.dates as mpd\n",
    "import pytz\n",
    "tzutc = pytz.timezone('UTC')\n",
    "#\n",
    "import math\n",
    "import random\n",
    "import numpy\n",
    "import scipy\n",
    "#import scipy.optimize as spo\n",
    "#from scipy import interpolate\n",
    "#import itertools\n",
    "import sys\n",
    "import os\n",
    "import multiprocessing as mpp\n",
    "#\n",
    "import matplotlib\n",
    "import matplotlib.pyplot as plt\n",
    "import matplotlib as mpl\n",
    "from mpl_toolkits.mplot3d import Axes3D\n",
    "import json\n",
    "import pickle\n",
    "#\n",
    "#from sklearn.neighbors import NearestNeighbors\n",
    "#import sklearn\n",
    "#import sklearn.neighbors\n",
    "#\n",
    "import geopy\n",
    "import geopy.distance\n",
    "#from geopy.distance import vincenty\n",
    "#from geopy.distance import great_circle\n",
    "#\n",
    "#import shapely.geometry as sgp\n",
    "#\n",
    "from mpl_toolkits.basemap import Basemap as Basemap\n",
    "from matplotlib.backends.backend_agg import FigureCanvasAgg as FigureCanvas\n",
    "from geographiclib.geodesic import Geodesic as ggp\n",
    "#\n",
    "#import ANSStools as atp\n",
    "#from yodiipy import ANSStools as atp\n",
    "#\n",
    "#import contours2kml\n",
    "#import globalETAS as gep\n",
    "#import global_etas_auto as ggep\n",
    "#from eq_params import *\n",
    "#\n",
    "#from nepal_figs import *\n",
    "#import optimizers\n",
    "#\n",
    "\n",
    "import libcomcat\n",
    "\n",
    "from libcomcat.utils import get_phase_dataframe, get_summary_data_frame\n",
    "from libcomcat.search import search,count,get_event_by_id\n",
    "from datetime import datetime\n",
    "import os.path\n",
    "import pandas as pd\n",
    "\n",
    "\n",
    "#import os.path\n",
    "import pandas as pd\n",
    "import pathlib\n"
   ]
  },
  {
   "cell_type": "code",
   "execution_count": 10,
   "metadata": {
    "collapsed": true
   },
   "outputs": [],
   "source": [
    "###### dt1 = dtm.datetime(2000,1,1,0,0,0)\n",
    "dt2 = dtm.datetime(2018, 8, 31, 23, 59, 59)\n",
    "mc = 2.5\n",
    "\n",
    "#lon0 = 116.576\n",
    "#lat0 = -8.324\n",
    "\n",
    "\n",
    "\n",
    "eventlist = search(starttime=dt1,\n",
    "                       endtime=dt2,\n",
    "                       minmagnitude=mc, \n",
    "                       minlatitude=-12.32, maxlatitude=4.324,\n",
    "                       minlongitude=112.576, maxlongitude=120.576)\n",
    "#"
   ]
  },
  {
   "cell_type": "code",
   "execution_count": 15,
   "metadata": {},
   "outputs": [
    {
     "data": {
      "text/plain": [
       "list"
      ]
     },
     "execution_count": 15,
     "metadata": {},
     "output_type": "execute_result"
    }
   ],
   "source": [
    "type(eventlist)"
   ]
  },
  {
   "cell_type": "code",
   "execution_count": 22,
   "metadata": {},
   "outputs": [
    {
     "name": "stdout",
     "output_type": "stream",
     "text": [
      "usp0009mt0 2000-01-28 22:57:51.700000 (-9.691,118.764) 83.4 km M5.6\n",
      "usp0009r0c 2000-04-08 15:28:23.020000 (1.091,120.151) 33.0 km M5.6\n",
      "usp000a1dh 2000-10-07 11:57:40.940000 (-9.974,119.378) 33.0 km M5.9\n",
      "usp000a2qh 2000-10-30 12:01:30.760000 (-9.708,119.075) 33.0 km M6.0\n",
      "usp000a9qk 2001-02-16 05:59:09.480000 (-7.161,117.488) 521.0 km M6.1\n",
      "usp000akyv 2001-08-07 03:22:35.890000 (-8.610,113.832) 90.5 km M5.6\n",
      "usp000apg9 2001-09-20 02:01:51.820000 (-11.375,115.042) 10.0 km M5.6\n",
      "usp000b686 2002-06-16 00:00:25.600000 (0.495,119.901) 34.8 km M5.9\n",
      "usp000b8ny 2002-07-24 03:05:05.540000 (-9.285,118.616) 28.8 km M5.9\n",
      "usp000bap7 2002-08-26 17:36:44.700000 (-6.398,113.406) 33.0 km M5.6\n",
      "[datetime.datetime(2000, 1, 28, 22, 57, 51, 700000), 118.764, -9.691, 5.6, 83.4]\n",
      "[datetime.datetime(2000, 4, 8, 15, 28, 23, 20000), 120.151, 1.091, 5.6, 33]\n",
      "[datetime.datetime(2000, 10, 7, 11, 57, 40, 940000), 119.378, -9.974, 5.9, 33]\n",
      "[datetime.datetime(2000, 10, 30, 12, 1, 30, 760000), 119.075, -9.708, 6, 33]\n",
      "[datetime.datetime(2001, 2, 16, 5, 59, 9, 480000), 117.488, -7.161, 6.1, 521]\n",
      "[datetime.datetime(2001, 8, 7, 3, 22, 35, 890000), 113.832, -8.61, 5.6, 90.5]\n",
      "[datetime.datetime(2001, 9, 20, 2, 1, 51, 820000), 115.042, -11.375, 5.6, 10]\n",
      "[datetime.datetime(2002, 6, 16, 0, 0, 25, 600000), 119.901, 0.495, 5.9, 34.8]\n",
      "[datetime.datetime(2002, 7, 24, 3, 5, 5, 540000), 118.616, -9.285, 5.9, 28.8]\n",
      "[datetime.datetime(2002, 8, 26, 17, 36, 44, 700000), 113.406, -6.398, 5.6, 33]\n"
     ]
    }
   ],
   "source": [
    "for rw in eventlist[0:10]:\n",
    "    print(rw)\n",
    "\n",
    "el = eventlist[0]\n",
    "ev = el\n",
    "#\n",
    "event_list_list = [[ev.time, ev.longitude, ev.latitude, ev.magnitude, ev.depth] for ev in eventlist]\n",
    "for rw in event_list_list[0:10]:\n",
    "    print(rw)"
   ]
  },
  {
   "cell_type": "code",
   "execution_count": null,
   "metadata": {
    "collapsed": true
   },
   "outputs": [],
   "source": []
  }
 ],
 "metadata": {
  "kernelspec": {
   "display_name": "Python 3",
   "language": "python",
   "name": "python3"
  },
  "language_info": {
   "codemirror_mode": {
    "name": "ipython",
    "version": 3
   },
   "file_extension": ".py",
   "mimetype": "text/x-python",
   "name": "python",
   "nbconvert_exporter": "python",
   "pygments_lexer": "ipython3",
   "version": "3.7.3"
  }
 },
 "nbformat": 4,
 "nbformat_minor": 2
}
