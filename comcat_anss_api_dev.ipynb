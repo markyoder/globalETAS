{
 "cells": [
  {
   "cell_type": "code",
   "execution_count": 5,
   "metadata": {},
   "outputs": [
    {
     "name": "stdout",
     "output_type": "stream",
     "text": [
      "The autoreload extension is already loaded. To reload it, use:\n",
      "  %reload_ext autoreload\n"
     ]
    }
   ],
   "source": [
    "%load_ext autoreload\n",
    "%autoreload 2\n",
    "%matplotlib inline"
   ]
  },
  {
   "cell_type": "code",
   "execution_count": 6,
   "metadata": {},
   "outputs": [],
   "source": [
    "import datetime as dtm\n",
    "import matplotlib.dates as mpd\n",
    "import pytz\n",
    "#import calendar\n",
    "#import operator\n",
    "import sys\n",
    "import yodiipy.ANSStools as atp\n",
    "#\n",
    "# TODO: it is probably time to say goodnight to Python 2.x support...\n",
    "import urllib\n",
    "# try:\n",
    "# \t# should work with python 3.x\n",
    "# \timport urllib.request, urllib.parse, urllib.error\n",
    "# except:\n",
    "# \tprint(\"failed while loading: urllib.request, urllib.parse, urllib.error.\\n probably Python 2.x?\")\n",
    "# \t#urllib.request.urlopen = urllib.urlopen\n",
    "\n",
    "# try:\n",
    "# \timport ullib2\n",
    "# except:\n",
    "# \tprint(\"failed while loading urllib and/or urllib. maybe python 3.x?\")\n",
    "\t\n",
    "#import urllib.request, urllib.error, urllib.parse\n",
    "#import requests\n",
    "import numpy\n",
    "import math\n",
    "\n",
    "import contextlib\n",
    "\n",
    "tzutc = pytz.timezone('UTC')"
   ]
  },
  {
   "cell_type": "markdown",
   "metadata": {},
   "source": [
    "### ComCat ANSS API:\n",
    "- Comcat is awesome, and it replaced the old ANSS API (that was basicaly a hack I did)\n",
    "- But it's bulky and difficult to install on HPC or managed systems\n",
    "- So there's a new API, which i think is even easier to use. we should reserve it as an option\n",
    "- ... and develop it here."
   ]
  },
  {
   "cell_type": "code",
   "execution_count": null,
   "metadata": {},
   "outputs": [],
   "source": []
  },
  {
   "cell_type": "code",
   "execution_count": 11,
   "metadata": {},
   "outputs": [],
   "source": [
    "#TODO: \n",
    "# maybe move this to ANSS_tools, and develop on a branch like a grownup?\n",
    "#\n",
    "# here is the new ANSS-comcat portal:\n",
    "# https://earthquake.usgs.gov/earthquakes/search/\n",
    "#\n",
    "# and here is a sample results URL:\n",
    "# https://earthquake.usgs.gov/fdsnws/event/1/query.csv?starttime=2019-09-06%2000:00:00&endtime=2019-09-13%2023:59:59&maxlatitude=37&minlatitude=30&maxlongitude=-115&minlongitude=-122&minmagnitude=2.5&eventtype=earthquake&orderby=time\n",
    "#\n",
    "# it looks like we can just replace the URL and use a query string, rather than post syntax, and then emulate\n",
    "#. the remaining infrastructure. in fact, the hierarchal get_list() -> process_list_for_catalog() organization\n",
    "#. might not look so silly any longer, since we presumably only have to rewrite the very top layer.\n",
    "#\n",
    "#\n",
    "# copy some stuff from ANSS tools; we'll code this up here and then move it over:\n",
    "\n",
    "# let's take this opportunity to revise our syntax and introduce class structure. We can maintain backwards\n",
    "# compatibility with a function wrapper.\n",
    "class ANSS_Comcat_catalog(object):\n",
    "    # TODO: datestring re-formatting is totally forked. need to figure that out...\n",
    "    #\n",
    "    anss_url = 'https://earthquake.usgs.gov/fdsnws/event/1/query.csv'\n",
    "    input_delim=','\n",
    "    #\n",
    "    def __init__(self, min_lon=-125., max_lon=-115., min_lat=32., max_lat=42., m_c=3.5,\n",
    "                 from_date=dtm.datetime(2000, 1,1, tzinfo=tzutc), to_date=dtm.datetime.now(tzutc),\n",
    "                 Nmax=None):\n",
    "        #\n",
    "        delim_dt = '-'\n",
    "        delim_tm = ':'\n",
    "        #\n",
    "        if to_date is None:\n",
    "            to_date = dtm.datetime.now(tzutc)\n",
    "        from_date = self.anss_comcat_DateStr(from_date, delim_dt=delim_dt, delim_tm=delim_tm, dt_tm_sep='%20')\n",
    "        to_date   = self.anss_comcat_DateStr(to_date, delim_dt=delim_dt, delim_tm=delim_tm, dt_tm_sep='%20')\n",
    "        #\n",
    "        #print('*** DEBUG: from_date:: {}'.format(from_date))\n",
    "        #print('*** DEBUT: to_date:: {}'.format(to_date))\n",
    "        #\n",
    "        # TODO: FIXME: magnitudes do not look right...\n",
    "        # 'starttime':from_date, 'endtime':to_date,\n",
    "        anssPrams={  'minmagnitude':m_c, 'minlatitude':min_lat, 'maxlatitude':max_lat, 'minlongitude':min_lon, \n",
    "                   'maxlongitude':max_lon, \n",
    "                   'eventtype':'earthquake', 'orderby':'time', 'limit':Nmax\n",
    "                  }\n",
    "        anss_prams = {ky:vl for ky,vl in anssPrams.items() if not (vl in (chr(9), chr(32)) or vl is None)}\n",
    "        #\n",
    "        #\n",
    "        url_str = '{}?starttime={}&endtime={}&{}'.format(self.anss_url,from_date, to_date, \n",
    "                                                      urllib.parse.urlencode(anss_prams) )\n",
    "        self.url_str = url_str\n",
    "        # = 'https://earthquake.usgs.gov/fdsnws/event/1/query.csv?starttime=2019-09-01%2000:00:00&endtime=2019-09-14%2006:16:43&limit=500&minmagnitude=3.5&minlatitude=32.0&maxlatitude=45.0&minlongitude=-125.0&maxlongitude=-115.0&eventtype=earthquake&orderby=time'\n",
    "        #print('*** DEBUG:  ', url_str)\n",
    "        #f = urllib.request.urlretrieve(url_str)\n",
    "        #\n",
    "        # Keep everything, then write procedures to subset, or subset now, and if we want to keep everything later,\n",
    "        #. deal with it then? We'll (sort of) do both by parsing out to functions, so we can subclase.\n",
    "        data = self.get_data()\n",
    "        \n",
    "        #\n",
    "        self.__dict__.update({ky:val for ky,val in locals().items() if not ky in ('self', '__class__')})\n",
    "    #\n",
    "    @property\n",
    "    def f(self):\n",
    "        return self.get_f()\n",
    "    #\n",
    "    def get_f(self, url_str=None):\n",
    "        return urllib.request.urlopen((url_str or self.url_str) )\n",
    "    #\n",
    "    def get_data(self):\n",
    "        # for new \"get\" functions, we want all changes to be here.\n",
    "        #\n",
    "        #\n",
    "        # note: it's probably faster to just fetch all the data all at once, but i was having \n",
    "        #. trouble iterating over it (though i didn't really try very hard either.)\n",
    "        with self.get_f() as fin:\n",
    "            cols = (fin.readline().decode()[:-1]).split(self.input_delim)\n",
    "            col_map = [('time','event_date', cols.index('time'), self.get_anss_datetime, 'M8[us]'),\n",
    "               ('latitude','lat', cols.index('latitude'), float, '>f8'),\n",
    "               ('longitude','lon', cols.index('longitude'), float, '>f8'),\n",
    "               ('mag','mag', cols.index('mag'), float, '>f8'),\n",
    "               ('depth','depth', cols.index('depth'), float, '>f8')]\n",
    "            self.col_map = col_map\n",
    "            #\n",
    "            #\n",
    "            # this is an easy map, and we want to preserve order, so let's just make it a list\n",
    "            #col_map = {'time':'event_date', 'latitude':'lat', 'longitude':'lon', 'mag':'mag', 'depth':'depth'}\n",
    "            #        \n",
    "            #data_in = fin.read().decode().split('\\n')\n",
    "            data = []\n",
    "            for rw in fin:\n",
    "                #print('** DEBUG: ', rw)\n",
    "                rws = rw.decode()[:-1].split(self.input_delim)\n",
    "                #print('*** DEBUG rws: ', rws)\n",
    "                try:\n",
    "                    data += [[f_cast(rws[k])  for n_in, n_out, k, f_cast, d_type in col_map]]\n",
    "                    data[-1] += [mpd.date2num(data[-1][0])]\n",
    "                except Exception as e:\n",
    "                    print('*** WARNING: unable to process event into catalog: {}'.format([rws[k] \n",
    "                                                                    for s1, s2, k, f1, dt in col_map]))\n",
    "                    print('*** Exception: {}'.format(e))\n",
    "        #print('*** DEBUG: ', len(data_in)\n",
    "        #print('*** DEBUG: ', data_in[0:10])\n",
    "        #\n",
    "        \n",
    "        #\n",
    "        # it might be faster to zip() or otherwise transpose, but this is not the compute intensive part of \n",
    "        #.  any of these jobs, so even some nested looping wont' kill us.\n",
    "#         data = []\n",
    "#         for rw in data_in:\n",
    "#             print('** DEBUG: ', rw)\n",
    "#             rws = rw.split(self.input_delim)\n",
    "#             data += [[f_cast(rws[k])  for n_in, n_out, k, f_cast, d_type in col_map]]\n",
    "#             data[-1] += [mpd.date2num(data[-1][0])]\n",
    "        #\n",
    "        data.sort(key = lambda rw:rw[-1])\n",
    "        self.data = data\n",
    "        return data\n",
    "    #\n",
    "    # TODO: fix these to simplify (so we only have to make changes in one place) if we subclass to\n",
    "    @property\n",
    "    def dtype(self):\n",
    "        return [(rw[1], rw[4]) for rw in self.col_map] + [('event_date_float', 'f8')]\n",
    "    #\n",
    "    def as_list(self):\n",
    "        return self.data\n",
    "    def as_dict(self):\n",
    "        return {ky:cols[k] for k, (ky, cols) in enumerate(zip([nm for nm,tp in self.dtype], zip(*self.data)))}\n",
    "    #\n",
    "    def as_recarray(self):\n",
    "        #\n",
    "        # generally, i've found this (and any of the simpler, more intuitive) syntax unreliable,\n",
    "        #. but it appears to be working in ANSStools:\n",
    "        #\n",
    "        X = self.data\n",
    "        #\n",
    "        return numpy.rec.array(([tuple(x) for x in X] if len(X)>0 else [[]]), dtype=self.dtype)\n",
    "        \n",
    "        #                       dtype = [(rw[1], rw[4]) for rw in self.col_map] + [('event_date_float', 'f8')] )\n",
    "        #                       dtype=[('event_date', 'M8[us]'), ('lat','f8'), \n",
    "        #                              ('lon','f8'), ('mag','f8'), ('depth','f8'),\n",
    "        #                              ('event_date_float', 'f8')])\n",
    "    #\n",
    "    def get_anss_datetime(self, dt_str, dt_delim='-', tm_delim=None, dt_tm_delim='T', tz=tzutc):\n",
    "        '''\n",
    "        # convert a datetime string into a datetime object.\n",
    "        # @dt_str: input string, typically like 'YYYY-MM-DDTHH:MM:SS.m'\n",
    "        # @dt_delim: date delimiter (usually '-', sometimes '/'; see default handler below.\n",
    "        # @tm_delim: time delimter. almost always ':'\n",
    "        # @dt_tm_delim: date-time part delimter. often a  space ' ', but here we find 'T'...\n",
    "        # @tx: timezone.\n",
    "        '''\n",
    "        #\n",
    "        if dt_delim is None:\n",
    "            if '/' in dt_str:\n",
    "                delim='/'\n",
    "            if '-' in dt_str:\n",
    "                delim='-'\n",
    "            #\n",
    "        if tm_delim is None:\n",
    "            tm_delim=':'\n",
    "        #\n",
    "        # first, parse the date-string:\n",
    "        strDt, strTm = dt_str[:-1].split(dt_tm_delim)[0:2]\n",
    "        #\n",
    "        strDts=strDt.split(dt_delim)\n",
    "        #strTms=strTm.split(':')\n",
    "        strTms = strTm.split(tm_delim)\n",
    "        #\n",
    "        yr=int(strDts[0])\n",
    "        mnth=int(strDts[1])\n",
    "        dy=int(strDts[2])\n",
    "        hr=int(strTms[0])\n",
    "        mn=int(strTms[1])\n",
    "        sc=float(strTms[2])\n",
    "        microsecs=(10**6)*sc%1.\n",
    "        # one approach is to start with year, month and add all the subsequent quantities using datetime.timedelta objects, which we have to\n",
    "        # do once we get into callendar addition anyway...\n",
    "        #so let's assume the date part is correct:\n",
    "        myDt=dtm.datetime(yr, mnth, dy, tzinfo=tz)\n",
    "        #mytimedelta=dtm.timedelta(hours=hr)\n",
    "        myDt+=dtm.timedelta(hours=hr)\n",
    "        myDt+=dtm.timedelta(minutes=mn)\n",
    "        myDt+=dtm.timedelta(seconds=sc)\n",
    "        myDt+=dtm.timedelta(microseconds=microsecs)\n",
    "        #\n",
    "        return myDt\n",
    "    #\n",
    "    def anss_comcat_DateStr(self, x=dtm.datetime.now(pytz.timezone('UTC')), delim_dt='-', delim_tm=':',\n",
    "                            dt_tm_sep=' '):\n",
    "        '''\n",
    "        # (Re-)Construct a date string from the ANSS catalog. At least in the past, ANSS had a habit of\n",
    "        #  writing dates in a silly way, like minutes=60, or seconds>60. it's difficult to know what they\n",
    "        #  meant, but the errors were usually on the order seconds, so we fix them, rather than discard.\n",
    "        '''\n",
    "        # yoder, 13 july 2015: ANSS seems to have made some changes. these date formats are breaking. probalby a matter of leading 0's in dates; might be fractional seconds.\n",
    "        #yr=x.year\n",
    "        #mo=x.month\n",
    "        #dy=x.day\n",
    "        #hr=x.hour\n",
    "        #mn=x.minute\n",
    "        #sc=x.second\n",
    "        #ms=x.microsecond\n",
    "        #fsecs=float(sc) + float(ms)*(10**(-6.0))\n",
    "        #\n",
    "        yr = str(x.year)\n",
    "        mo = ('00' + str(x.month))[-2:]\n",
    "        dy = ('00' + str(x.day))[-2:]\n",
    "        hr = ('00' + str(x.hour))[-2:]\n",
    "        mn = ('00' + str(x.minute))[-2:]\n",
    "        sc = ('00' + str(x.second))[-2:]\n",
    "        #\n",
    "        # ANSS seems to be complaining about fractional seconds, so skip this and return integer seconds.\n",
    "        '''\n",
    "        ms=x.microsecond\n",
    "        fsecs=float(sc) + float(ms)*(10**(-6.0))\n",
    "        #\n",
    "        # trim extra zeros:\n",
    "        fsecs_str = str(fsecs)\n",
    "        while ('.' in fsecs_str and len(fsecs_str)>3 and fsecs_str[-1]=='0'):\n",
    "            fsecs_str = fsecs_str[:-1]\n",
    "        '''\n",
    "        #\n",
    "        #return '%s/%s/%s,%s:%s:%f' % (yr, mo, dy, hr, mn, fsecs)\n",
    "        #return '%s/%s/%s,%s:%s:%s' % (yr, mo, dy, hr, mn, sc)\n",
    "\n",
    "        return delim_dt.join([yr,mo,dy]) + dt_tm_sep + delim_tm.join([hr,mn,sc])\n",
    "    #\n",
    "#\n",
    "# now, write a wrapper or two to mimic the standard UI. we should probably also just get rid of/replace\n",
    "#. the old ANSS catalog stuff.\n",
    "#\n",
    "# call signature like:\n",
    "#def cat_from_comcat(lon=[135., 150.], lat=[30., 41.5], minMag=4.0, \n",
    "#                    dates0=[dtm.datetime(2005,1,1, tzinfo=tzutc), None], Nmax=None, \n",
    "#                    fout=None, rec_array=True)\n",
    "def cat_from_anss_comcat(lon=[135., 150.], lat=[30., 41.5], minMag=4.0, \n",
    "                    dates0=[dtm.datetime(2005,1,1, tzinfo=tzutc), None], Nmax=None, \n",
    "                    fout=None, rec_array=True):\n",
    "    #\n",
    "    cat = ANSS_Comcat_catalog(min_lon=lon[0], max_lon=lon[1], min_lat=lat[0], max_lat=lat[1], m_c=minMag,\n",
    "                 from_date=dates0[0], to_date=dates0[1],\n",
    "                 Nmax=Nmax)\n",
    "    #\n",
    "    if not fout is None:\n",
    "        #\n",
    "        # TODO: figure out a way to do this properly with a context manager.\n",
    "        if isinstance(fout, str):\n",
    "            fout = open(fout, 'w')\n",
    "        fout.write('#!{}\\n'.format(chr(9).join([n for n,t in self.dtype])))\n",
    "        for rw in self.data:\n",
    "            fout.write('{}\\n'.format(chr(9).join([str(x) for x in rw])))\n",
    "        #\n",
    "        #\n",
    "        fout.close()\n",
    "    #\n",
    "    if rec_array:\n",
    "        return cat.as_recarray()\n",
    "    else:\n",
    "        return cat.as_list()\n",
    "    #\n",
    "#\n"
   ]
  },
  {
   "cell_type": "code",
   "execution_count": 12,
   "metadata": {},
   "outputs": [
    {
     "name": "stdout",
     "output_type": "stream",
     "text": [
      "[('2019-09-01T18:12:01.030000', 31.5678333, -115.7071667, 2.57,  6.09, 737303.75834525)\n",
      " ('2019-09-01T22:07:54.970000', 31.6795   , -115.9128333, 3.11, 10.98, 737303.922164  )\n",
      " ('2019-09-02T04:05:04.610000', 33.649    , -117.3335   , 3.19,  5.73, 737304.17019225)\n",
      " ('2019-09-02T04:55:14.310000', 33.6525   , -117.3305   , 2.77,  3.2 , 737304.20502674)\n",
      " ('2019-09-03T00:30:33.050001', 34.4531667, -118.4865   , 2.71, 17.6 , 737305.02121586)\n",
      " ('2019-09-04T00:18:46.170000', 34.0056667, -116.7643333, 3.41, 13.3 , 737306.01303438)\n",
      " ('2019-09-08T22:50:20.630000', 32.2121667, -115.2325   , 2.99, 24.01, 737310.95162766)\n",
      " ('2019-09-09T03:59:34.010000', 32.1283333, -116.6906667, 2.72, 11.97, 737311.16636586)\n",
      " ('2019-09-10T20:21:49.840000', 33.594    , -117.27     , 3.96, 13.69, 737312.84849352)\n",
      " ('2019-09-13T02:02:07.750000', 32.3923333, -115.2653333, 2.74,  6.11, 737315.08481192)]\n"
     ]
    }
   ],
   "source": [
    "obj =  ANSS_Comcat_catalog(from_date=dtm.datetime(2019, 9, 1), m_c=2.5, min_lat=31., max_lat=35.,\n",
    "                          min_lon=-122., max_lon=-115.)\n",
    "ary = obj.as_recarray()\n",
    "#\n",
    "print(ary[0:10])\n"
   ]
  },
  {
   "cell_type": "code",
   "execution_count": 13,
   "metadata": {},
   "outputs": [
    {
     "name": "stdout",
     "output_type": "stream",
     "text": [
      "**  [('time', 'event_date', 0, <bound method ANSS_Comcat_catalog.get_anss_datetime of <__main__.ANSS_Comcat_catalog object at 0x1a1d171358>>, 'M8[us]'), ('latitude', 'lat', 1, <class 'float'>, '>f8'), ('longitude', 'lon', 2, <class 'float'>, '>f8'), ('mag', 'mag', 4, <class 'float'>, '>f8'), ('depth', 'depth', 3, <class 'float'>, '>f8')]\n"
     ]
    }
   ],
   "source": [
    "print('** ', obj.col_map)"
   ]
  },
  {
   "cell_type": "code",
   "execution_count": 14,
   "metadata": {},
   "outputs": [
    {
     "name": "stdout",
     "output_type": "stream",
     "text": [
      "**  [('2005-01-01T22:20:16.950000', 30.471, 141.204, 4.1,  40. , 731947.93075174)\n",
      " ('2005-01-05T01:23:30.430000', 37.056, 141.47 , 4.3,  48.1, 731951.05799109)\n",
      " ('2005-01-06T13:00:40.220000', 41.456, 142.065, 5.4,  65.5, 731952.54213218)\n",
      " ('2005-01-08T08:00:45.090000', 32.292, 137.778, 3.9, 356.1, 731954.33385521)\n",
      " ('2005-01-09T09:59:30.360000', 35.291, 136.757, 4.3,  22. , 731955.41632361)\n",
      " ('2005-01-09T11:15:47.290000', 37.156, 138.79 , 4.1,  31.3, 731955.46929734)\n",
      " ('2005-01-09T14:07:25.800000', 31.883, 141.959, 4.2,  10. , 731955.58849306)\n",
      " ('2005-01-09T16:22:06.520000', 34.562, 136.705, 4.8, 327.4, 731955.68201991)\n",
      " ('2005-01-10T06:24:00.360000', 36.594, 141.958, 3.9,  27.2, 731956.26667083)\n",
      " ('2005-01-12T00:11:50.970000', 35.404, 140.827, 3.9,  62.3, 731958.00822882)]\n"
     ]
    }
   ],
   "source": [
    "mycat = cat_from_anss_comcat( minMag=3.0)\n",
    "print('** ', mycat[0:10])"
   ]
  },
  {
   "cell_type": "markdown",
   "metadata": {},
   "source": [
    "#### Test ANSS_ComCat vs Comcat\n",
    "- Test that rows are equal\n",
    "- One more, possibly difficult, test: is there a row limit, particuarly for the web-api?\n",
    "- NOTE: we sometimes get a minor floating point error in the date.microseconds field. This does not appear to manifest in the float-date field, so for large jobs, just skip the date field validation."
   ]
  },
  {
   "cell_type": "code",
   "execution_count": 15,
   "metadata": {},
   "outputs": [
    {
     "name": "stdout",
     "output_type": "stream",
     "text": [
      "** lens:  656 656\n",
      "Evaluating: \n",
      "*** EXCEPTION:: \n",
      " ('2019-09-03T00:30:33.050000', 34.4531667, -118.4865, 2.71, 17.6, 737305.02121586)\n",
      "('2019-09-03T00:30:33.050001', 34.4531667, -118.4865, 2.71, 17.6, 737305.02121586)\n",
      "[False, True, True, True, True, False]\n",
      "[0.0, -0.0, 0.0, 0.0, -7.894651363892758e-17]\n",
      "*** 1/655\n"
     ]
    }
   ],
   "source": [
    "mc = 2.5\n",
    "t0 = dtm.datetime(2017,8,15, tzinfo=tzutc)\n",
    "cat_cc = atp.cat_from_comcat(dates0=[t0, dtm.datetime(2019,9,12, tzinfo=tzutc)],\n",
    "                            minMag=mc, lat=[31., 35.], lon=[-122., -112.], rec_array=True)\n",
    "\n",
    "cat_anss_cc = cat_from_anss_comcat(dates0=[t0, dtm.datetime(2019,9,12, tzinfo=tzutc)],\n",
    "                            minMag=mc, lat=[31., 35.], lon=[-122., -112.], rec_array=True)\n",
    "#\n",
    "print('** lens: ', len(cat_cc), len(cat_anss_cc))\n",
    "#\n",
    "#\n",
    "#print('** cc\\n', cat_cc)\n",
    "#print('** anss_cc\\n', cat_anss_cc)\n",
    "#\n",
    "print('Evaluating: ')\n",
    "k_ex = 0\n",
    "for k, (rw1, rw2) in enumerate(zip(cat_cc, cat_anss_cc)):\n",
    "    #print('* {}: {}'.format(k, list(rw1)==list(rw2)))\n",
    "    #print('** * ', list(rw1)[1:])\n",
    "    #print('* ** ', list(rw2)[1:])\n",
    "    if not ( list(rw1)[1:] == list(rw2)[1:] ):\n",
    "        print('*** EXCEPTION:: \\n {}\\n{}\\n{}\\n{}'.format(rw1, rw2, [x1==x2 for x1, x2 in zip(rw1, rw2)],\n",
    "                                                [(x1-x2)/(x1+x2) for x1, x2 in zip(list(rw1)[1:], list(rw2)[1:])]))\n",
    "        k_ex += 1\n",
    "print('*** {}/{}'.format(k_ex, k))"
   ]
  },
  {
   "cell_type": "code",
   "execution_count": 195,
   "metadata": {},
   "outputs": [
    {
     "data": {
      "text/plain": [
       "[<matplotlib.lines.Line2D at 0x1250f7978>]"
      ]
     },
     "execution_count": 195,
     "metadata": {},
     "output_type": "execute_result"
    },
    {
     "data": {
      "image/png": "[encoded data removed]",
      "text/plain": [
       "<Figure size 864x576 with 2 Axes>"
      ]
     },
     "metadata": {
      "needs_background": "light"
     },
     "output_type": "display_data"
    }
   ],
   "source": [
    "import pylab as plt\n",
    "\n",
    "fg = plt.figure(figsize=(12,8))\n",
    "ax1 = plt.subplot('211')\n",
    "ax2 = plt.subplot('212', sharex=ax1)\n",
    "ax1.grid()\n",
    "#\n",
    "ax1.plot(ary['event_date_float'][1:], numpy.diff(ary['event_date_float']), ls='-', marker='')\n",
    "ax2.plot(ary['event_date_float'], ary['mag'])"
   ]
  },
  {
   "cell_type": "code",
   "execution_count": null,
   "metadata": {},
   "outputs": [],
   "source": []
  },
  {
   "cell_type": "code",
   "execution_count": 89,
   "metadata": {},
   "outputs": [
    {
     "name": "stdout",
     "output_type": "stream",
     "text": [
      "***  b'time,latitude,longitude,depth,mag,magType,nst,gap,dmin,rms,net,id,updated,place,type,horizontalError,depthError,magError,magNst,status,locationSource,magSource\\n'\n",
      "***  b'2019-09-13T06:50:21.890Z,36.6031667,-121.202,6.03,3.82,mw,61,66,0.03413,0.09,nc,nc73271485,2019-09-14T15:37:36.985Z,\"10km NNW of Pinnacles, CA\",earthquake,0.15,0.43,,5,reviewed,nc,nc\\n'\n",
      "***  b'2019-09-10T20:21:49.840Z,33.594,-117.27,13.69,3.96,ml,178,21,0.06253,0.23,ci,ci38824959,2019-09-14T17:24:46.190Z,\"1km ESE of Wildomar, CA\",earthquake,0.12,0.29,0.151,333,reviewed,ci,ci\\n'\n",
      "***  b'2019-09-10T12:24:42.590Z,39.5272,-116.4999,9.4,3.8,ml,44,85.35,0.872,0.2833,nn,nn00703221,2019-09-11T12:25:50.008Z,\"46km E of Austin, Nevada\",earthquake,,2.7,0.21,17,reviewed,nn,nn\\n'\n",
      "***  b'2019-09-10T04:25:55.631Z,39.5419,-116.5599,9.1,4.6,ml,53,67.17,0.857,0.2275,nn,nn00703188,2019-09-11T04:27:01.615Z,\"45km E of Austin, Nevada\",earthquake,,2.2,0.27,23,reviewed,nn,nn\\n'\n",
      "***  b'2019-09-08T14:07:23.340Z,35.5815,-117.4133333,5.57,3.59,mw,49,37,0.04014,0.15,ci,ci38819223,2019-09-10T22:33:20.582Z,\"20km S of Trona, CA\",earthquake,0.14,0.35,,6,reviewed,ci,ci\\n'\n",
      "**  <http.client.HTTPResponse object at 0x12329ae10>\n"
     ]
    }
   ],
   "source": [
    "for rw in obj.f:\n",
    "    print('*** ', rw)\n",
    "\n",
    "print('** ', obj.f)\n",
    "obj.f.close()\n",
    "#    print('** ', rw)"
   ]
  },
  {
   "cell_type": "code",
   "execution_count": 25,
   "metadata": {},
   "outputs": [],
   "source": [
    "#\n",
    "def getANSStoFilehandler(lon=[-125, -115], lat=[32, 45], minMag=4.92, dates0=[dtm.datetime(2001,1,1, tzinfo=tzutc), dtm.datetime(2010, 12, 31, tzinfo=tzutc)], Nmax=999999):\n",
    "    # fetch data from ANSS; return a file handler.\n",
    "    #\n",
    "    # use urllib in \"post\" mode. an example from http://www.python.org/doc/current/library/urllib.html#urllib.FancyURLopener)\n",
    "    # using \"get\" (aka, query-string method; note the ?%s string at the end of the URL, this is a single pram call to .urlopen):\n",
    "    #\n",
    "    #>>> import urllib\n",
    "    #>>> params = urllib.urlencode({'spam': 1, 'eggs': 2, 'bacon': 0})\n",
    "    #>>> f = urllib.urlopen(\"http://www.musi-cal.com/cgi-bin/query?%s\" % params)\n",
    "    #>>> print f.read()\n",
    "    #\n",
    "    # using \"post\" (note this is a 2 pram call):\n",
    "    #>>> import urllib\n",
    "    #>>> params = urllib.urlencode({'spam': 1, 'eggs': 2, 'bacon': 0})\n",
    "    #>>> f = urllib.urlopen(\"http://www.musi-cal.com/cgi-bin/query\", params)\n",
    "    #>>> print f.read()\n",
    "    #\n",
    "    # make ANSS prams dictionary (thank james for the bash-template):\n",
    "    # ANSSquery has day-resolution:\n",
    "    # revision: ANSS has time resolution, but you have to replace \"-\" -> \"/\" and the \" \" (space) -> \",\"\n",
    "    #dates=[dtm.date(dates0[0].year, dates0[0].month, dates0[0].day), dtm.date(dates0[1].year, dates0[1].month, dates0[1].day)]\n",
    "    dates=dates0\n",
    "    datestr1 = anssDateStr(dates[0])\n",
    "    datestr2 = anssDateStr(dates[1])\n",
    "    #print datestr1, datestr2\n",
    "    #\n",
    "    #anssPrams={'format':'cnss', 'output':'readable', 'mintime':str(dates[0]).replace('-', '/'), 'maxtime':str(dates[1]).replace('-', '/'), 'minmag':str(minMag), 'minlat':lat[0], 'maxlat':lat[1], 'minlon':lon[0], 'maxlon':lon[1], 'etype':'E', 'searchlimit':Nmax}\n",
    "    # so this is better, but i think it is still limited to 1 second resolution.\n",
    "    #\n",
    "    anssPrams={'format':'cnss', 'output':'readable', 'mintime':datestr1, 'maxtime':datestr2, 'minmag':str(minMag), 'minlat':lat[0], 'maxlat':lat[1], 'minlon':lon[0], 'maxlon':lon[1], 'etype':b'E', 'searchlimit':Nmax}\n",
    "    #anssPrams={'format':b'cnss', 'output':b'readable', 'mintime':bytearray(datestr1, 'utf-8'), 'maxtime':bytearray(datestr2, 'utf-8'), 'minmag':bytearray(str(minMag), 'utf-8'), 'minlat':lat[0], 'maxlat':lat[1], 'minlon':lon[0], 'maxlon':lon[1], 'etype':b'E', 'searchlimit':Nmax}\n",
    "    #print \"debug: \", anssPrams\n",
    "    #post_data = urllib.parse.urlencode(anssPrams)\n",
    "    #binary_post_data = post_data.encode('ascii')\n",
    "    #\n",
    "    # now, let's support some backwards compatibility, at least for a little while:\n",
    "    if sys.version_info.major == 2:\n",
    "        # old python...\n",
    "        f = urllib.urlopen('http://www.ncedc.org/cgi-bin/catalog-search2.pl', urllib.urlencode(anssPrams))\n",
    "    else:\n",
    "        binary_post_data = urllib.parse.urlencode(anssPrams).encode('ascii')\n",
    "        f = urllib.request.urlopen('http://www.ncedc.org/cgi-bin/catalog-search2.pl', binary_post_data )\n",
    "    #\n",
    "    # we might return f, a string of f, or maybe a list of lines from f. we'll work that out shortly...\n",
    "    return f"
   ]
  },
  {
   "cell_type": "code",
   "execution_count": 18,
   "metadata": {},
   "outputs": [
    {
     "ename": "ModuleNotFoundError",
     "evalue": "No module named 'urllib.urlretrieve'",
     "output_type": "error",
     "traceback": [
      "\u001b[0;31m---------------------------------------------------------------------------\u001b[0m",
      "\u001b[0;31mModuleNotFoundError\u001b[0m                       Traceback (most recent call last)",
      "\u001b[0;32m<ipython-input-18-85e495a429a2>\u001b[0m in \u001b[0;36m<module>\u001b[0;34m\u001b[0m\n\u001b[0;32m----> 1\u001b[0;31m \u001b[0;32mimport\u001b[0m \u001b[0murllib\u001b[0m\u001b[0;34m.\u001b[0m\u001b[0murlretrieve\u001b[0m\u001b[0;34m\u001b[0m\u001b[0;34m\u001b[0m\u001b[0m\n\u001b[0m",
      "\u001b[0;31mModuleNotFoundError\u001b[0m: No module named 'urllib.urlretrieve'"
     ]
    }
   ],
   "source": [
    "import urllib.urlretrieve"
   ]
  },
  {
   "cell_type": "code",
   "execution_count": null,
   "metadata": {},
   "outputs": [],
   "source": [
    "https://earthquake.usgs.gov/fdsnws/event/1/query.csv?starttime=2019-09-06%2000:00:00&endtime=2019-09-13%2023:59:59&\n",
    "        maxlatitude=35&minlatitude=31&maxlongitude=-113&minlongitude=-118&minmagnitude=2.5&maxmagnitude=9&\n",
    "        mindepth=-1&maxdepth=300&eventtype=earthquake&orderby=time&limit=500\n",
    "        \n",
    "\n",
    "https://earthquake.usgs.gov/fdsnws/event/1/query.csv?starttime=2019-09-01%2000:00:00&endtime=2019-09-14%2006:16:43&\n",
    "                    minmagnitude=3.5&minlatitude=32.0&maxlatitude=45.0&minlongitude=-125.0&maxlongitude=-115.0&\n",
    "                    eventtype=earthquake&orderby=time&limit=500\n",
    "                    \n",
    "https://earthquake.usgs.gov/fdsnws/event/1/query.csv?starttime=2019-09-01%2000:00:00&endtime=2019-09-14%2006:16:43&limit=500&minmagnitude=3.5\n",
    "                    \n",
    "                    "
   ]
  },
  {
   "cell_type": "code",
   "execution_count": 236,
   "metadata": {},
   "outputs": [
    {
     "name": "stdout",
     "output_type": "stream",
     "text": [
      "<built-in method count of tuple object at 0x12a3dc688>\n",
      "<built-in method index of tuple object at 0x12a3dc688>\n"
     ]
    }
   ],
   "source": [
    "# i still don't get what this does. do not appear to be any data here... don't appear to be able to iterate.\n",
    "#\n",
    "data_urlr=urllib.request.urlretrieve(obj.url_str)\n",
    "\n",
    "    len(data_urlr)\n",
    "\n",
    "for rw in data_urlr:\n",
    "        print('** ', rw)\n",
    "\n",
    "print(data_urlr.count)\n",
    "print(data_urlr.index)"
   ]
  },
  {
   "cell_type": "code",
   "execution_count": null,
   "metadata": {},
   "outputs": [],
   "source": []
  }
 ],
 "metadata": {
  "kernelspec": {
   "display_name": "Python 3",
   "language": "python",
   "name": "python3"
  },
  "language_info": {
   "codemirror_mode": {
    "name": "ipython",
    "version": 3
   },
   "file_extension": ".py",
   "mimetype": "text/x-python",
   "name": "python",
   "nbconvert_exporter": "python",
   "pygments_lexer": "ipython3",
   "version": "3.7.3"
  }
 },
 "nbformat": 4,
 "nbformat_minor": 2
}
