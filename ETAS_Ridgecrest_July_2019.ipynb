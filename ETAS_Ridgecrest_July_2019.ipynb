{
 "cells": [
  {
   "cell_type": "markdown",
   "metadata": {},
   "source": [
    "### ETAS: Ridgecrest, 4ish July, 2019\n",
    "\n",
    "Time\n",
    "2019-07-04 17:33:49 (UTC)\n",
    "Location\n",
    "35.705°N 117.506°W\n",
    "Depth\n",
    "10.7 km"
   ]
  },
  {
   "cell_type": "code",
   "execution_count": 1,
   "metadata": {
    "collapsed": false
   },
   "outputs": [],
   "source": [
    "#\n",
    "%load_ext autoreload\n",
    "%autoreload 2\n",
    "%matplotlib inline"
   ]
  },
  {
   "cell_type": "code",
   "execution_count": 2,
   "metadata": {
    "collapsed": false
   },
   "outputs": [
    {
     "name": "stdout",
     "output_type": "stream",
     "text": [
      "failed while loading urllib and/or urllib. maybe python 3.x?\n"
     ]
    }
   ],
   "source": [
    "import datetime as dtm\n",
    "import matplotlib.dates as mpd\n",
    "import pytz\n",
    "tzutc = pytz.timezone('UTC')\n",
    "\n",
    "#import operator\n",
    "import math\n",
    "import random\n",
    "import numpy\n",
    "import scipy\n",
    "import scipy.optimize as spo\n",
    "from scipy import interpolate\n",
    "import itertools\n",
    "import sys\n",
    "#import scipy.optimize as spo\n",
    "import os\n",
    "import operator\n",
    "#from PIL import Image as ipp\n",
    "import multiprocessing as mpp\n",
    "#\n",
    "import matplotlib\n",
    "import matplotlib.pyplot as plt\n",
    "import matplotlib as mpl\n",
    "from mpl_toolkits.mplot3d import Axes3D\n",
    "import json\n",
    "import pickle\n",
    "#\n",
    "\n",
    "import geopy.distance\n",
    "#from geopy.distance import vincenty\n",
    "#from geopy.distance import great_circle\n",
    "#\n",
    "#import shapely.geometry as sgp\n",
    "os.environ['PROJ_LIB'] = '{}/anaconda3/share/proj'.format(os.getenv('HOME'))\n",
    "#\n",
    "from mpl_toolkits.basemap import Basemap as Basemap\n",
    "from matplotlib.backends.backend_agg import FigureCanvasAgg as FigureCanvas\n",
    "from geographiclib.geodesic import Geodesic as ggp\n",
    "#\n",
    "\n",
    "#import ANSStools as atp\n",
    "from yodiipy import ANSStools as atp\n",
    "#\n",
    "\n",
    "import contours2kml\n",
    "import globalETAS as gep\n",
    "\n",
    "import global_etas_auto as ggep\n",
    "\n",
    "from eq_params import *\n",
    "#\n",
    "from nepal_figs import *\n",
    "import optimizers\n",
    "#\n",
    "import random\n",
    "import geopy"
   ]
  },
  {
   "cell_type": "code",
   "execution_count": 3,
   "metadata": {
    "collapsed": false
   },
   "outputs": [],
   "source": [
    "#\n",
    "to_dt = dtm.datetime.now(pytz.timezone('UTC'))\n",
    "#\n",
    "Lr_factor = 10.\n",
    "# define these from the t_now in the actual etas object, in the event that we load it from pickle,\n",
    "#  rather than calc it here.\n",
    "#f_path = '/home/myoder/Dropbox/Research/etas/italy_2016_10/etas_{}'.format(to_dt)\n",
    "#f_root = 'etas_2016'\n",
    "#\n",
    "\n",
    "t0 = dtm.datetime.now(pytz.timezone('UTC'))\n",
    "t_ms = t0\n",
    "#\n",
    "# sacramento:\n",
    "lat0 = 35.705\n",
    "lon0 = -117.506\n",
    "#\n",
    "#ll_sacramento = (lon0, lat0)\n",
    "\n",
    "#m0 = 7.8\n",
    "\n",
    "d_lat=2.\n",
    "d_lon=2.\n",
    "#\n",
    "lats = [lat0-d_lat, lat0+d_lat]\n",
    "lons = [lon0-d_lon, lon0+d_lon]\n",
    "#to_dt = t0-dtm.timedelta(hours=2)\n",
    "#to_dt = dtm.datetime.now(pytz.utc)\n",
    "#\n",
    "#etas = ggep.auto_etas(to_dt=to_dt, Lr_factor=Lr_factor, dt_0=5)\n",
    "#italy_prams = {'do_recarray': True, 'D_fract': 1.5,\n",
    "#                't_0':dtm.datetime(1990, 1, 1, 0, 0, tzinfo=pytz.timezone('UTC')),\n",
    "#                't_now':to_dt, \n",
    "#                'lats': [42.,43.5], 'p': 1.1, 'b1': 1.0, 'mc': 2.5, 'q': 1.5,\n",
    "#                'lons': [12.,15.], 'dmstar': 1.0, 'b2': 1.5, 'd_tau': 2.28,\n",
    "#                'incat': None, 'fit_factor': 2.0, 'd_lambda': 1.76}\n",
    "eq_prams = {'do_recarray': True, 'D_fract': 1.5,\n",
    "               't_0':dtm.datetime(1990, 1, 1, 0, 0, tzinfo=pytz.timezone('UTC')),\n",
    "               't_now':to_dt, 't_future':None ,\n",
    "               'lats': lats, 'p_cat': 1.1, 'b1': 1.0, 'mc': 2.5, 'q_cat': 1.5,\n",
    "               'p_etas':1.1, 'q_etas':1.5,\n",
    "               'lons': lons, 'dmstar': 1.0, 'b2': 1.5, 'd_tau': 2.28,\n",
    "               'incat': None, 'fit_factor': 2.0, 'd_lambda': 1.76, 'etas_range_padding':1.5,\n",
    "            'etas_range_factor':30.0, 'ab_ratio_expon':.25 }\n",
    "#eq_prams.update({'mc':3.0, 'd_lat':.25, 'd_lon':.25})"
   ]
  },
  {
   "cell_type": "code",
   "execution_count": null,
   "metadata": {
    "collapsed": false
   },
   "outputs": [],
   "source": [
    "# let's add a preliminary map...\n",
    "class Preliminary_Map(object):\n",
    "    def __init__(self, lats, lons):\n",
    "        pass\n",
    "#\n",
    "# comcat may not be working (overloaded, probably after the earthquake):\n",
    "# try anss:\n",
    "mycat = None\n",
    "#\n",
    "#mycat = atp.catfromANSS(lon=lons, lat=lats, minMag=2.5,\n",
    "# , tzinfo=tzutc\n",
    "\n",
    "# mycat = atp.cat_from_comcat(lon=lons, lat=lats, minMag=2.5,\n",
    "#                         dates0=[dtm.datetime(2005,1,1, 0, 0, 0), dtm.datetime.now()], \n",
    "#                             Nmax=None, fout=None, rec_array=True)\n",
    "#\n",
    "# and going straight to the comcat:\n",
    "import libcomcat\n",
    "eventlist = libcomcat.search.search(starttime=dtm.datetime(2005,1,1, 0, 0, 0, tzinfo=tz_utc),\n",
    "                       endtime=dtm.datetime.now(tz_utc),\n",
    "                       minmagnitude=2.5,\n",
    "                      minlatitude=lats[0]-.5, maxlatitude=lats[1]+.5,\n",
    "                      minlongitude=lons[0]-.5, maxlongitude=lons[1]+.5)\n",
    "#\n",
    "\n",
    "#\n",
    "catalog = [[ev.time, ev.latitude, ev.longitude, ev.magnitude, ev.depth, mpd.date2num(ev.time)] for ev in eventlist]\n",
    "#\n",
    "mycat = numpy.core.records.fromarrays(zip(*catalog), dtype=[('event_date', 'M8[us]'), \n",
    "          ('lat','f8'), ('lon','f8'), ('mag','f8'), ('depth','f8'), ('event_date_float', 'f8')])\n",
    "print('catlen: ', len(eventlist))\n",
    "#\n",
    "\n",
    "mycat = gep.make_ETAS_catalog_mpp(incat=mycat, n_cpu=None)"
   ]
  },
  {
   "cell_type": "code",
   "execution_count": null,
   "metadata": {
    "collapsed": false,
    "scrolled": false
   },
   "outputs": [],
   "source": [
    "#eq_prams['t_now'] = dtm.datetime(2019,7,7,0,0,0, tzinfo=pytz.timezone('UTC'))\n",
    "eq_prams['t_now'] = dtm.datetime.now(pytz.timezone('UTC'))\n",
    "n_cpu = 2*mpp.cpu_count()\n",
    "#n_cpu=5\n",
    "etas = gep.ETAS_mpp(n_cpu=n_cpu, catalog=mycat, **eq_prams)\n",
    "#\n",
    "# we've run this; we can reload it from pickle:\n",
    "#with open('data/etas_201610.pkl', 'rb') as fin:\n",
    "#    etas = pickle.load(fin)\n",
    "#\n",
    "event_name = 'Ridgecrest_July_2019'\n",
    "f_path = '/home/myoder/Dropbox/Research/etas/{}/etas_{}'.format(event_name, etas.t_now)\n",
    "f_root = 'etas_{}_2019_07'.format(event_name)"
   ]
  },
  {
   "cell_type": "code",
   "execution_count": null,
   "metadata": {
    "collapsed": false,
    "scrolled": true
   },
   "outputs": [],
   "source": [
    "#print(etas.t0, etas.t_now, etas.t_forecast, etas.catalog[-1])"
   ]
  },
  {
   "cell_type": "code",
   "execution_count": null,
   "metadata": {
    "collapsed": false,
    "scrolled": false
   },
   "outputs": [],
   "source": [
    "fg=plt.figure(0, figsize=(12,10))\n",
    "ax=plt.gca()\n",
    "etas.make_etas_contour_map(n_contours=25, fignum=0, map_resolution='f', alpha=.3, ax=ax)\n",
    "#\n",
    "#mainshock = sorted(etas.catalog, key=lambda rw: rw['mag'])[-1]\n",
    "#print('mainshock: ', mainshock)\n",
    "# get mainshock. it's an m>6 event in the last week or so... this is subjective.\n",
    "# if we just look for the biggest event, we get the L'Aquila event, so we'll need to be more creative...\n",
    "# or just specify it.\n",
    "\n",
    "mainshock = etas.catalog[-1]\n",
    "for j,eq in enumerate(reversed(etas.catalog)):\n",
    "    #print('*** ', pytz.utc.localize(eq['event_date'].astype(dtm.datetime)))\n",
    "    if pytz.utc.localize(eq['event_date'].astype(dtm.datetime))<etas.t_now-dtm.timedelta(days=180): break\n",
    "    if eq['mag']>mainshock['mag']:\n",
    "        mainshock = eq\n",
    "        #\n",
    "    #\n",
    "#\n",
    "print('ms: ', mainshock, mainshock['lon'], mainshock['lat'])\n",
    "x,y = etas.cm(mainshock['lon'], mainshock['lat'])\n",
    "#\n",
    "#print('mm: ', max(etas.catalog['mag']))\n",
    "#\n",
    "# let's get everything m>6 in the last 6 months?\n",
    "m6s = [rw for rw in etas.catalog if rw['mag'] >= 6. \n",
    "       and pytz.utc.localize(rw['event_date'].astype(dtm.datetime))>to_dt-dtm.timedelta(days=180)]\n",
    "#\n",
    "# plot mainshock:\n",
    "dt = mainshock['event_date'].astype(dtm.datetime)\n",
    "dt=t0\n",
    "dt_str = '{}-{}-{} {}:{}:{}'.format(dt.year, dt.month, dt.day, dt.hour, dt.minute, dt.second)\n",
    "#etas.cm.plot([x], [y], latlon=False, marker='*', color='r', ms=16, zorder=11,\n",
    "#                   label='m={}, {}'.format(mainshock['mag'], dt_str))\n",
    "#etas.cm.plot([lon0], [lat0], latlon=False, marker='*', color='r', ms=16, zorder=11,\n",
    "#                   label='m={}, {}'.format(m0, dt_str))\n",
    "\n",
    "ax.set_title('ETAS: {}, {}\\n\\n'.format(event_name, etas.t_now), size=16)\n",
    "for j,m6 in enumerate(m6s):\n",
    "    clr = colors_[j%len(colors_)]\n",
    "    #\n",
    "    dt = m6['event_date'].astype(dtm.datetime)\n",
    "    dt_str = '{}-{}-{} {}:{}:{}'.format(dt.year, dt.month, dt.day, dt.hour, dt.minute, dt.second)\n",
    "    etas.cm.scatter(m6['lon'], m6['lat'], s=2*(m6['mag']+2.), edgecolors=clr, \n",
    "                          c='none', marker='o', zorder=11, label='m={}, {}'.format(m6['mag'], dt_str))\n",
    "\n",
    "#x,y = etas.cm(*ll_sacramento)\n",
    "#etas.cm.scatter([x],[y], marker='o', s=18, edgecolors='r', c='r',\n",
    "#                    label='Sacramento')\n",
    "t_cat = mpd.date2num(etas.t_now-dtm.timedelta(days=15))\n",
    "print('tt: ', t_cat, etas.catalog['event_date'][0], type(etas.catalog['event_date'][0]))\n",
    "k=0\n",
    "\n",
    "# for j,rw in enumerate(etas.catalog):\n",
    "#     if mpd.date2num(rw['event_date'].astype(dtm.datetime))<t_cat: continue\n",
    "#     k+=1\n",
    "#     clr = colors_[k%len(colors_)]\n",
    "#     #\n",
    "#     dt = rw['event_date'].astype(dtm.datetime)\n",
    "#     dt_str = '{}-{}-{} {}:{}:{}'.format(dt.year, dt.month, dt.day, dt.hour, dt.minute, dt.second)\n",
    "#     #etas.cm.scatter(rw['lon'],rw['lat'], s=3*(rw['mag']+12.), edgecolors=clr, \n",
    "#     #                      c='none', marker='o', zorder=11, label='m={}, {}'.format(rw['mag'], dt_str))\n",
    "#     etas.cm.plot(rw['lon'],rw['lat'], ms=2.*(rw['mag']+2.), color=clr, \n",
    "#                           marker='o', zorder=11, label='m={}, {}'.format(rw['mag'], dt_str), latlon=True)\n",
    "    \n",
    "    #\n",
    "plt.gca().legend()\n",
    "#print(etas.catalog[-10:])"
   ]
  },
  {
   "cell_type": "code",
   "execution_count": null,
   "metadata": {
    "collapsed": false,
    "scrolled": false
   },
   "outputs": [],
   "source": [
    "fg2=plt.figure(0, figsize=(12,10))\n",
    "ax=plt.gca()\n",
    "etas.make_etas_contour_map(n_contours=25, fignum=0, map_resolution='f', alpha=.3, ax=ax)\n",
    "#\n",
    "#mainshock = sorted(etas.catalog, key=lambda rw: rw['mag'])[-1]\n",
    "#print('mainshock: ', mainshock)\n",
    "# get mainshock. it's an m>6 event in the last week or so... this is subjective.\n",
    "# if we just look for the biggest event, we get the L'Aquila event, so we'll need to be more creative...\n",
    "# or just specify it.\n",
    "\n",
    "mainshock = etas.catalog[-1]\n",
    "for j,eq in enumerate(reversed(etas.catalog)):\n",
    "    #print('*** ', pytz.utc.localize(eq['event_date'].astype(dtm.datetime)))\n",
    "    if pytz.utc.localize(eq['event_date'].astype(dtm.datetime))<etas.t_now-dtm.timedelta(days=180): break\n",
    "    if eq['mag']>mainshock['mag']:\n",
    "        mainshock = eq\n",
    "        #\n",
    "    #\n",
    "#\n",
    "print('ms: ', mainshock, mainshock['lon'], mainshock['lat'])\n",
    "x,y = etas.cm(mainshock['lon'], mainshock['lat'])\n",
    "#\n",
    "#print('mm: ', max(etas.catalog['mag']))\n",
    "#\n",
    "# let's get everything m>6 in the last 6 months?\n",
    "m6s = [rw for rw in etas.catalog if rw['mag'] >= 6. \n",
    "       and pytz.utc.localize(rw['event_date'].astype(dtm.datetime))>to_dt-dtm.timedelta(days=180)]\n",
    "#\n",
    "# plot mainshock:\n",
    "dt = mainshock['event_date'].astype(dtm.datetime)\n",
    "dt=t0\n",
    "dt_str = '{}-{}-{} {}:{}:{}'.format(dt.year, dt.month, dt.day, dt.hour, dt.minute, dt.second)\n",
    "#etas.cm.plot([x], [y], latlon=False, marker='*', color='r', ms=16, zorder=11,\n",
    "#                   label='m={}, {}'.format(mainshock['mag'], dt_str))\n",
    "#etas.cm.plot([lon0], [lat0], latlon=False, marker='*', color='r', ms=16, zorder=11,\n",
    "#                   label='m={}, {}'.format(m0, dt_str))\n",
    "\n",
    "ax.set_title('ETAS: {}, {}\\n\\n'.format(event_name, etas.t_now), size=16)\n",
    "for j,m6 in enumerate(m6s):\n",
    "    clr = colors_[j%len(colors_)]\n",
    "    #\n",
    "    dt = m6['event_date'].astype(dtm.datetime)\n",
    "    dt_str = '{}-{}-{} {}:{}:{}'.format(dt.year, dt.month, dt.day, dt.hour, dt.minute, dt.second)\n",
    "    etas.cm.scatter(m6['lon'], m6['lat'], s=2*(m6['mag']+2.), edgecolors=clr, \n",
    "                          c='none', marker='o', zorder=11, label='m={}, {}'.format(m6['mag'], dt_str))\n",
    "ix = numpy.array([x<=etas.t_now and x>dtm.datetime(2019,7,4, tzinfo=tz_utc) \n",
    "                  for x in [pytz.utc.localize(x.astype(dtm.datetime)) for x in etas.catalog['event_date']]])\n",
    "etas.cm.plot(etas.catalog['lon'][ix], etas.catalog['lat'][ix], marker='.', ls='')\n",
    "#x,y = etas.cm(*ll_sacramento)\n",
    "#etas.cm.scatter([x],[y], marker='o', s=18, edgecolors='r', c='r',\n",
    "#                    label='Sacramento')\n",
    "t_cat = mpd.date2num(etas.t_now-dtm.timedelta(days=15))\n",
    "print('tt: ', t_cat, etas.catalog['event_date'][0], type(etas.catalog['event_date'][0]))\n",
    "k=0\n",
    "\n",
    "# for j,rw in enumerate(etas.catalog):\n",
    "#     if mpd.date2num(rw['event_date'].astype(dtm.datetime))<t_cat: continue\n",
    "#     k+=1\n",
    "#     clr = colors_[k%len(colors_)]\n",
    "#     #\n",
    "#     dt = rw['event_date'].astype(dtm.datetime)\n",
    "#     dt_str = '{}-{}-{} {}:{}:{}'.format(dt.year, dt.month, dt.day, dt.hour, dt.minute, dt.second)\n",
    "#     #etas.cm.scatter(rw['lon'],rw['lat'], s=3*(rw['mag']+12.), edgecolors=clr, \n",
    "#     #                      c='none', marker='o', zorder=11, label='m={}, {}'.format(rw['mag'], dt_str))\n",
    "#     etas.cm.plot(rw['lon'],rw['lat'], ms=2.*(rw['mag']+2.), color=clr, \n",
    "#                           marker='o', zorder=11, label='m={}, {}'.format(rw['mag'], dt_str), latlon=True)\n",
    "    \n",
    "    #\n",
    "plt.gca().legend()\n",
    "#print(etas.catalog[-10:])"
   ]
  },
  {
   "cell_type": "code",
   "execution_count": null,
   "metadata": {
    "collapsed": false,
    "scrolled": true
   },
   "outputs": [],
   "source": [
    "print(['{},{}\\n'.format(rw['event_date'], rw['mag'] ) for rw in etas.catalog if rw['mag'] >= 5.5])\n",
    "len(['{},{}\\n'.format(rw['event_date'], rw['mag'] ) for rw in etas.catalog if rw['mag'] >= 5.5\n",
    "     and rw['event_date'].astype(dtm.datetime)>dtm.datetime(2016,10,20)])\n",
    "\n"
   ]
  },
  {
   "cell_type": "code",
   "execution_count": null,
   "metadata": {
    "collapsed": false
   },
   "outputs": [],
   "source": [
    "## hey, pickling works with the new ETAS objects (or at least it appears to...):\n",
    "# with open('data/etas_201610.pkl', 'wb') as fpkl:\n",
    "#     pickle.dump( etas, fpkl)    \n",
    "#\n",
    "#with open('data/etas_201610.pkl', 'rb') as fin:\n",
    "#    etas2 = pickle.load(fin)\n",
    "#\n",
    "#print(etas2.catalog[0:5])\n",
    "# TODO: we want the datetime part of the filename to come from the etas object itself, for purposes of\n",
    "# integrity. BUT, we want this script to be a bit more portable, so we should replace all the etas\n",
    "# references/object name to just 'etas'\n",
    "#\n",
    "etas.export_kml(os.path.join(f_path, '{}_{}.kml'.format(f_root, str(etas.t_now).replace(' ', '_'))))\n",
    "etas.export_xyz(os.path.join(f_path, '{}_{}.xyz'.format(f_root, str(etas.t_now).replace(' ', '_'))))\n",
    "fg.savefig(os.path.join(f_path, '{}_{}.png'.format(f_root, str(etas.t_now).replace(' ', '_'))))\n",
    "fg2.savefig(os.path.join(f_path, '{}_{}_wiith_earthquakes.png'.format(f_root, str(etas.t_now).replace(' ', '_'))))\n",
    "\n",
    "#\n",
    "# so this worked, once upon a time, but breaks maybe when the script does not run cleanly all the way through?\n",
    "with open (os.path.join(f_path, '{}_{}.pkl'.format(f_root, str(etas.t_now).replace(' ', '_'))), 'wb') as fpkl:\n",
    "   pickle.dump(etas, fpkl)\n"
   ]
  },
  {
   "cell_type": "code",
   "execution_count": null,
   "metadata": {
    "collapsed": false
   },
   "outputs": [],
   "source": [
    "plt.figure(figsize=(8,5))\n",
    "plt.clf()\n",
    "ax1=plt.subplot('121')\n",
    "ax2=plt.subplot('122')\n",
    "ax1.plot(etas.catalog['lon'], etas.catalog['lat'], ',')\n",
    "ax1.plot([mainshock['lon']], [mainshock['lat']], marker='*', color='r', ms=16, zorder=11)\n",
    "#\n",
    "ax2.plot([m for m in reversed(sorted(etas.catalog['mag']))], numpy.arange(1,len(etas.catalog)+1),\n",
    "         '.-', lw=2.)\n",
    "ax2.set_yscale('log')"
   ]
  },
  {
   "cell_type": "code",
   "execution_count": null,
   "metadata": {
    "collapsed": false
   },
   "outputs": [],
   "source": [
    "\n",
    "#print(etas.mc, etas.mc_etas)"
   ]
  },
  {
   "cell_type": "code",
   "execution_count": null,
   "metadata": {
    "collapsed": true
   },
   "outputs": [],
   "source": []
  },
  {
   "cell_type": "code",
   "execution_count": null,
   "metadata": {
    "collapsed": false
   },
   "outputs": [],
   "source": [
    "# plot a cross-section of ETAS. let's get smart about this and do a PCA on the xyz field...\n",
    "#\n",
    "#plt.figure()\n",
    "##my_xy = [[x,y,z] for x,y in zip(etas.catalog['lon'], etas['lat']) if x>=42.25 and x<=42.75]\n",
    "#my_xyz = [[x,y,z] for x,y,z in etas.ETAS_array if y>=42.25 and y<=42.75]\n",
    "#plt.figure(figsize=(8,6))\n",
    "#plt.plot([x for x,y,z in my_xyz ], [z for x,y,z in my_xyz], '.')"
   ]
  },
  {
   "cell_type": "code",
   "execution_count": null,
   "metadata": {
    "collapsed": true
   },
   "outputs": [],
   "source": []
  }
 ],
 "metadata": {
  "kernelspec": {
   "display_name": "Python 3",
   "language": "python",
   "name": "python3"
  },
  "language_info": {
   "codemirror_mode": {
    "name": "ipython",
    "version": 3
   },
   "file_extension": ".py",
   "mimetype": "text/x-python",
   "name": "python",
   "nbconvert_exporter": "python",
   "pygments_lexer": "ipython3",
   "version": "3.6.8"
  }
 },
 "nbformat": 4,
 "nbformat_minor": 0
}
