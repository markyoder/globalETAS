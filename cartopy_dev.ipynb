{
 "cells": [
  {
   "cell_type": "code",
   "execution_count": 35,
   "id": "ea9f8d70",
   "metadata": {},
   "outputs": [
    {
     "name": "stdout",
     "output_type": "stream",
     "text": [
      "The autoreload extension is already loaded. To reload it, use:\n",
      "  %reload_ext autoreload\n"
     ]
    }
   ],
   "source": [
    "%load_ext autoreload\n",
    "%autoreload 2\n",
    "%matplotlib inline\n"
   ]
  },
  {
   "cell_type": "code",
   "execution_count": 36,
   "id": "f8e4c430",
   "metadata": {},
   "outputs": [],
   "source": [
    "import numpy,sys,os\n",
    "import datetime as dtm\n",
    "import matplotlib as mpl\n",
    "import matplotlib.dates as mpd, pytz\n",
    "import pylab as plt\n",
    "import math,random\n",
    "#\n",
    "import multiprocessing as mpp\n",
    "import json\n",
    "import pickle\n",
    "#\n",
    "import cartopy\n",
    "#\n",
    "import nETAS_compute\n",
    "import nETAS_mapper\n",
    "import contours2kml\n",
    "from yodiipy import ANSStools as atp\n"
   ]
  },
  {
   "cell_type": "code",
   "execution_count": 37,
   "id": "c58f03a7",
   "metadata": {},
   "outputs": [],
   "source": [
    "#\n",
    "n_cpu = mpp.cpu_count()\n",
    "# some eq parameters:\n",
    "to_dt = dtm.datetime.now(pytz.timezone('UTC'))\n",
    "#\n",
    "Lr_factor = 10.\n",
    "#\n",
    "t0 = dtm.datetime.now(pytz.timezone('UTC'))\n",
    "t_ms = t0\n",
    "#\n",
    "# sacramento:\n",
    "lat0 = 38.5816\n",
    "lon0 = -121.4944\n",
    "ll_sacramento = (lon0, lat0)\n",
    "#\n",
    "d_lat=5.\n",
    "d_lon=5.\n",
    "#\n",
    "lats = [lat0-d_lat, lat0+d_lat]\n",
    "lons = [lon0-d_lon, lon0+d_lon]\n",
    "#\n",
    "to_dt = t0\n",
    "#\n",
    "eq_prams = {'do_recarray': True, 'D_fract': 1.5,\n",
    "               't_0':dtm.datetime(1990, 1, 1, 0, 0, tzinfo=pytz.timezone('UTC')),\n",
    "               't_now':to_dt-dtm.timedelta(days=10), 't_future':to_dt ,\n",
    "               'lats': lats, 'p_cat': 1.1, 'b1': 1.0, 'mc': 2.5, 'q_cat': 1.5,\n",
    "               'p_etas':1.1, 'q_etas':1.5,\n",
    "               'lons': lons, 'dmstar': 1.0, 'b2': 1.5, 'd_tau': 2.28,\n",
    "               'incat': None, 'fit_factor': 2.0, 'd_lambda': 1.76, 'etas_range_padding':1.5,\n",
    "            'etas_range_factor':30.0, 'ab_ratio_expon':.25 }\n",
    "#eq_prams.update({'mc':3.0, 'd_lat':.25, 'd_lon':.25})\n",
    "#\n",
    "event_name = 'NorCal_general'\n",
    "f_path = '/home/myoder/Dropbox/Research/etas/{}/etas_{}'.format(event_name, to_dt)\n",
    "#\n",
    "if not os.path.isdir(f_path):\n",
    "    f_path = os.path.join(os.environ['HOME'], 'etas/{}/etas_{}'.format(event_name, to_dt))\n",
    "\n",
    "f_root = f'etas_{event_name}_2021_07'"
   ]
  },
  {
   "cell_type": "code",
   "execution_count": 38,
   "id": "1694c909",
   "metadata": {},
   "outputs": [
    {
     "name": "stdout",
     "output_type": "stream",
     "text": [
      "*** DEBUG: https://earthquake.usgs.gov/fdsnws/event/1/query.csv?starttime=2011-07-12T22:37:55&endtime=2021-07-09T22:37:55&minmagnitude=2.5&minlatitude=33.5816&maxlatitude=43.5816&minlongitude=-126.4944&maxlongitude=-116.4944&eventtype=earthquake&orderby=time\n",
      "etas_prams:  {'incat': None, 'lats': [32.0, 38.0], 'lons': [-117.0, -114.0], 'mc': 2.5, 'date_range': [datetime.datetime(1990, 1, 1, 0, 0, tzinfo=datetime.timezone.utc), datetime.datetime(2021, 7, 9, 22, 36, 35, 343988, tzinfo=<UTC>)], 'D_fract': 1.5, 'd_lambda': 1.76, 'd_tau': 2.28, 'fit_factor': 1.5, 'p': 1.1, 'q': 1.5, 'dmstar': 1.0, 'b1': 1.0, 'b2': 1.5, 'do_recarray': False}\n",
      "results fetched.\n"
     ]
    }
   ],
   "source": [
    "mycat = None\n",
    "mycat = atp.cat_from_anss_comcat(lon=lons, lat=lats, minMag=eq_prams['mc'],\n",
    "                        dates0=[dtm.datetime.now(pytz.timezone('UTC'))-dtm.timedelta(days=3650), \n",
    "                                dtm.datetime.now(pytz.timezone('UTC'))],\n",
    "                            Nmax=None, fout=None, rec_array=True, verbose=True)\n",
    "#                        dates0=[dtm.datetime(2005,1,1, tzinfo=tzutc), None], Nmax=None, fout=None, rec_array=True)\n",
    "\n",
    "mycat = nETAS_compute.make_ETAS_catalog_mpp(incat=mycat, n_cpu=n_cpu)"
   ]
  },
  {
   "cell_type": "code",
   "execution_count": 56,
   "id": "cb734d5c",
   "metadata": {},
   "outputs": [],
   "source": [
    "class nETAS_xyz(nETAS_compute.ETAS_mpp, nETAS_mapper.nETAS_mapper):\n",
    "    def __init__(*args, **kwargs):\n",
    "        nETAS_compute.ETAS_mpp.__init__(*args, **kwargs)\n",
    "    #"
   ]
  },
  {
   "cell_type": "code",
   "execution_count": 57,
   "id": "08550de5",
   "metadata": {},
   "outputs": [
    {
     "name": "stdout",
     "output_type": "stream",
     "text": [
      "begin globalETAS.__init()__\n",
      "Overriding t_0 (etas catalog start date/time) for ETAS calculations. using catalog start, t_0 = t_now - catlen (3650.000000) = 2011-07-02 22:37:49.665858+00:00\n",
      "fetch and process catalog for dates: 2011-07-02 22:37:49.665858+00:00-2021-06-29 22:37:49.665858+00:00, mc=2.5, lats=[33.5816, 43.5816], lons=[-126.4944, -116.4944]\n",
      "etas_prams:  {'incat': None, 'lats': [33.5816, 43.5816], 'lons': [-126.4944, -116.4944], 'mc': 2.5, 'date_range': [datetime.datetime(2011, 7, 2, 22, 37, 49, 665858, tzinfo=<UTC>), datetime.datetime(2021, 6, 29, 22, 37, 49, 665858, tzinfo=<UTC>)], 'D_fract': 1.5, 'd_lambda': 1.76, 'd_tau': 2.28, 'fit_factor': 1.0, 'p': 1.1, 'q': 1.5, 'dmstar': 1.0, 'b1': 1.0, 'b2': 1.5, 'do_recarray': False}\n",
      "results fetched.\n",
      "catalog fetched and processed.\n",
      "ETAS over etas_cat_range/xyz_range:  ([0, 12941], None)\n",
      "make_etas():\n",
      "etas_mpp worker xyz_range:  [0, 1250]\n",
      "begin globalETAS.__init()__\n",
      "Overriding t_0 (etas catalog start date/time) for ETAS calculations. using catalog start, t_0 = t_now - catlen (3650.000000) = 2011-07-02 22:37:49.665858+00:00\n",
      "ETAS over etas_cat_range/xyz_range:  ([0, 12941], [0, 1250])\n",
      "etas_mpp worker xyz_range:  [1250, 2500]\n",
      "begin globalETAS.__init()__\n",
      "Overriding t_0 (etas catalog start date/time) for ETAS calculations. using catalog start, t_0 = t_now - catlen (3650.000000) = 2011-07-02 22:37:49.665858+00:00\n",
      "ETAS over etas_cat_range/xyz_range:  ([0, 12941], [1250, 2500])\n",
      "etas_mpp worker xyz_range:  [2500, 3750]\n",
      "begin globalETAS.__init()__\n",
      "Overriding t_0 (etas catalog start date/time) for ETAS calculations. using catalog start, t_0 = t_now - catlen (3650.000000) = 2011-07-02 22:37:49.665858+00:00\n",
      "ETAS over etas_cat_range/xyz_range:  ([0, 12941], [2500, 3750])\n",
      "etas_mpp worker xyz_range:  [3750, 5000]\n",
      "begin globalETAS.__init()__\n",
      "Overriding t_0 (etas catalog start date/time) for ETAS calculations. using catalog start, t_0 = t_now - catlen (3650.000000) = 2011-07-02 22:37:49.665858+00:00\n",
      "ETAS over etas_cat_range/xyz_range:  ([0, 12941], [3750, 5000])\n",
      "etas_mpp worker xyz_range:  [5000, 6250]\n",
      "begin globalETAS.__init()__\n",
      "Overriding t_0 (etas catalog start date/time) for ETAS calculations. using catalog start, t_0 = t_now - catlen (3650.000000) = 2011-07-02 22:37:49.665858+00:00\n",
      "ETAS over etas_cat_range/xyz_range:  ([0, 12941], [5000, 6250])\n",
      "etas_mpp worker xyz_range:  [6250, 7500]\n",
      "begin globalETAS.__init()__\n",
      "Overriding t_0 (etas catalog start date/time) for ETAS calculations. using catalog start, t_0 = t_now - catlen (3650.000000) = 2011-07-02 22:37:49.665858+00:00\n",
      "ETAS over etas_cat_range/xyz_range:  ([0, 12941], [6250, 7500])\n",
      "etas_mpp worker xyz_range:  [7500, 8750]\n",
      "begin globalETAS.__init()__\n",
      "Overriding t_0 (etas catalog start date/time) for ETAS calculations. using catalog start, t_0 = t_now - catlen (3650.000000) = 2011-07-02 22:37:49.665858+00:00\n",
      "ETAS over etas_cat_range/xyz_range:  ([0, 12941], [7500, 8750])\n",
      "etas_mpp worker xyz_range:  [8750, 10000]\n",
      "begin globalETAS.__init()__\n",
      "Overriding t_0 (etas catalog start date/time) for ETAS calculations. using catalog start, t_0 = t_now - catlen (3650.000000) = 2011-07-02 22:37:49.665858+00:00\n",
      "ETAS over etas_cat_range/xyz_range:  ([0, 12941], [8750, 10000])\n",
      "now gather sub-arrays...\n",
      "ETAS complete.\n"
     ]
    }
   ],
   "source": [
    "\n",
    "#n_cpu=5\n",
    "#etas = nETAS_compute.ETAS_mpp(n_cpu=n_cpu, **eq_prams)\n",
    "etas = nETAS_xyz(n_cpu=n_cpu, **eq_prams)\n",
    "\n",
    "#\n",
    "# we've run this; we can reload it from pickle:\n",
    "#with open('data/etas_201610.pkl', 'rb') as fin:\n",
    "#    etas = pickle.load(fin)\n",
    "#\n"
   ]
  },
  {
   "cell_type": "code",
   "execution_count": 58,
   "id": "692a8f01",
   "metadata": {},
   "outputs": [
    {
     "data": {
      "image/png": "[encoded data removed]",
      "text/plain": [
       "<Figure size 432x288 with 2 Axes>"
      ]
     },
     "metadata": {
      "needs_background": "light"
     },
     "output_type": "display_data"
    }
   ],
   "source": [
    "conts = etas.calc_etas_contours()\n"
   ]
  },
  {
   "cell_type": "code",
   "execution_count": 61,
   "id": "e47708ed",
   "metadata": {},
   "outputs": [
    {
     "data": {
      "image/png": "[encoded data removed]",
      "text/plain": [
       "<Figure size 432x432 with 1 Axes>"
      ]
     },
     "metadata": {
      "needs_background": "light"
     },
     "output_type": "display_data"
    }
   ],
   "source": [
    "zz = etas.draw_map()\n"
   ]
  },
  {
   "cell_type": "code",
   "execution_count": null,
   "id": "3ce2ea76",
   "metadata": {},
   "outputs": [],
   "source": []
  }
 ],
 "metadata": {
  "kernelspec": {
   "display_name": "Python 3",
   "language": "python",
   "name": "python3"
  },
  "language_info": {
   "codemirror_mode": {
    "name": "ipython",
    "version": 3
   },
   "file_extension": ".py",
   "mimetype": "text/x-python",
   "name": "python",
   "nbconvert_exporter": "python",
   "pygments_lexer": "ipython3",
   "version": "3.8.8"
  }
 },
 "nbformat": 4,
 "nbformat_minor": 5
}
