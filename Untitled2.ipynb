{
 "cells": [
  {
   "cell_type": "code",
   "execution_count": 1,
   "metadata": {},
   "outputs": [],
   "source": [
    "%load_ext autoreload\n",
    "%autoreload 2\n",
    "%matplotlib inline"
   ]
  },
  {
   "cell_type": "code",
   "execution_count": 2,
   "metadata": {},
   "outputs": [],
   "source": [
    "import os\n",
    "import sys"
   ]
  },
  {
   "cell_type": "code",
   "execution_count": 4,
   "metadata": {},
   "outputs": [],
   "source": [
    "#print(os.environ['PYTHONPATH'])"
   ]
  },
  {
   "cell_type": "code",
   "execution_count": 5,
   "metadata": {},
   "outputs": [
    {
     "name": "stdout",
     "output_type": "stream",
     "text": [
      "/Users/myoder96/Codes/globalETAS\n",
      "['/Users/myoder96/Codes/globalETAS', '/Users/myoder96/anaconda3/envs/pyncl/lib/python37.zip', '/Users/myoder96/anaconda3/envs/pyncl/lib/python3.7', '/Users/myoder96/anaconda3/envs/pyncl/lib/python3.7/lib-dynload', '', '/Users/myoder96/.local/lib/python3.7/site-packages', '/Users/myoder96/anaconda3/envs/pyncl/lib/python3.7/site-packages', '/Users/myoder96/anaconda3/envs/pyncl/lib/python3.7/site-packages/PyNIO', '/Users/myoder96/anaconda3/envs/pyncl/lib/python3.7/site-packages/IPython/extensions', '/Users/myoder96/.ipython']\n"
     ]
    }
   ],
   "source": [
    "print(os.getcwd())\n",
    "print(sys.path)"
   ]
  },
  {
   "cell_type": "code",
   "execution_count": 6,
   "metadata": {},
   "outputs": [
    {
     "name": "stdout",
     "output_type": "stream",
     "text": [
      "PROJ_LIB: /Users/myoder96/anaconda3/envs/pyncl/share/proj\n",
      "TERM_PROGRAM: Apple_Terminal\n",
      "TERM: xterm-color\n",
      "SHELL: /bin/bash\n",
      "TMPDIR: /var/folders/gl/k5z9ytk9371d34tw7r3_qjvr0000gn/T/\n",
      "Apple_PubSub_Socket_Render: /private/tmp/com.apple.launchd.Mf9HvwSerG/Render\n",
      "CONDA_SHLVL: 2\n",
      "TERM_PROGRAM_VERSION: 421.2\n",
      "CONDA_PROMPT_MODIFIER: (pyncl) \n",
      "TERM_SESSION_ID: 5BB5003F-EFE3-4467-9C9E-174492DA7195\n",
      "USER: myoder96\n",
      "UDUNITS2_XML_PATH: /Users/myoder96/anaconda3/envs/pyncl/share/udunits/udunits2.xml\n",
      "PY_USER_BIN: /Users/myoder96/.local/bin\n",
      "CONDA_EXE: /Users/myoder96/anaconda3/bin/conda\n",
      "SSH_AUTH_SOCK: /private/tmp/com.apple.launchd.VJL3pq4JQI/Listeners\n",
      "JPY_PARENT_PID: 6368\n",
      "MKL_INTERFACE_LAYER: LP64,GNU\n",
      "_CE_CONDA: \n",
      "CONDA_PREFIX_1: /Users/myoder96/anaconda3\n",
      "CPL_ZIP_ENCODING: UTF-8\n",
      "PATH: /Users/myoder96/anaconda3/envs/pyncl/bin:/Users/myoder96/Code_packages/mkmf:/Users/myoder96/.local/bin:/opt/local/bin:/opt/local/sbin:/Users/myoder96/anaconda3/bin:/Users/myoder96/anaconda3/condabin:/usr/local/bin:/usr/bin:/bin:/usr/sbin:/sbin:/usr/local/go/bin:/opt/X11/bin\n",
      "CONDA_MKL_INTERFACE_LAYER_BACKUP: \n",
      "CONDA_PREFIX: /Users/myoder96/anaconda3/envs/pyncl\n",
      "PWD: /Users/myoder96/Codes/globalETAS\n",
      "NCARG_ROOT: /Users/myoder96/anaconda3/envs/pyncl\n",
      "LANG: en_US.UTF-8\n",
      "XPC_FLAGS: 0x0\n",
      "GDAL_DATA: /Users/myoder96/anaconda3/envs/pyncl/share/gdal\n",
      "XPC_SERVICE_NAME: 0\n",
      "_CE_M: \n",
      "HOME: /Users/myoder96\n",
      "SHLVL: 1\n",
      "LOGNAME: myoder96\n",
      "CONDA_PYTHON_EXE: /Users/myoder96/anaconda3/bin/python\n",
      "CONDA_DEFAULT_ENV: pyncl\n",
      "DISPLAY: /private/tmp/com.apple.launchd.HmfX3XqXWY/org.macosforge.xquartz:0\n",
      "CLICOLOR: 1\n",
      "PAGER: cat\n",
      "GIT_PAGER: cat\n",
      "MPLBACKEND: module://ipykernel.pylab.backend_inline\n"
     ]
    }
   ],
   "source": [
    "# #print(os.environ.keys())\n",
    "# for ky, vl in os.environ.items():\n",
    "#     print('{}: {}'.format(ky,vl))"
   ]
  },
  {
   "cell_type": "code",
   "execution_count": null,
   "metadata": {},
   "outputs": [],
   "source": []
  }
 ],
 "metadata": {
  "kernelspec": {
   "display_name": "Python [conda env:pyncl]",
   "language": "python",
   "name": "conda-env-pyncl-py"
  }
 },
 "nbformat": 4,
 "nbformat_minor": 2
}
